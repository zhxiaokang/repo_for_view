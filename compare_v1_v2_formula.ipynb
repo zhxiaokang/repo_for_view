{
 "cells": [
  {
   "cell_type": "markdown",
   "id": "9a80c8cf-195d-4be7-aa17-503d84a2f8ea",
   "metadata": {},
   "source": [
    "# Compare the two versions of interpretation of the formula"
   ]
  },
  {
   "cell_type": "markdown",
   "id": "3eb108d2-d9dd-4d93-ac09-dfcc7315ae2d",
   "metadata": {},
   "source": [
    "### Some functions to prepare, including the function to calculate P(si) and P(sj|si)"
   ]
  },
  {
   "cell_type": "code",
   "execution_count": 1,
   "id": "bee82358-97da-418e-a756-606fe88a904a",
   "metadata": {},
   "outputs": [],
   "source": [
    "import os\n",
    "import itertools\n",
    "import random\n",
    "import numpy as np\n",
    "import matplotlib.pyplot as plt\n",
    "from scipy.stats import spearmanr, pearsonr\n",
    "\n",
    "# create the dict of key: seq, value: count\n",
    "def generate_dict_count(fn_outcomes):\n",
    "    dict_count = {}\n",
    "    with open(fn_outcomes, \"r\") as fp:\n",
    "        for line in fp:\n",
    "            parts = line.rstrip().split(\"\\t\")\n",
    "            seq = parts[0]\n",
    "            count = int(parts[1])\n",
    "            dict_count[seq] = count\n",
    "\n",
    "    return dict_count\n",
    "\n",
    "# generate only theoritical bystander outcomes (original target seq + only C->T within editing window)\n",
    "def generate_bystander_outcomes_expect(seq, start, end):\n",
    "    index_start = int(start) - 1\n",
    "    index_end = int(end) -1\n",
    "    outcomes = ['']\n",
    "    for i in range(len(seq)):\n",
    "        if index_start <= i <= index_end:\n",
    "            new_outcomes = []\n",
    "            for outcome in outcomes:\n",
    "                if seq[i] == \"C\":\n",
    "                    new_outcomes.append(outcome + seq[i])\n",
    "                    new_outcomes.append(outcome + 'T')\n",
    "                else:\n",
    "                    new_outcomes.append(outcome + seq[i])\n",
    "            outcomes = new_outcomes\n",
    "        else:\n",
    "            outcomes = [outcome + seq[i] for outcome in outcomes]\n",
    "    return outcomes\n",
    "\n",
    "# construct the occupancies of 4 nucleotides at each position of one target sequence (together with its editing outcome)\n",
    "def prepare_probs(fn_outcomes):\n",
    "    # Extract the sequence from the fn\n",
    "    target_seq = os.path.basename(fn_outcomes).split(\"_\")[0]\n",
    "    # occupancy_list = [{\"A\":0,\"T\":0,\"G\":0,\"C\":0} for x in range(len(target_seq))]\n",
    "\n",
    "    dict_edit_freq = {}\n",
    "    for index in range(len(target_seq)):\n",
    "        for nucl in [\"C\", \"Non-C\"]:\n",
    "            dict_edit_freq[(index, nucl)] = {'A': 0, 'C': 0, 'G': 0, 'T': 0}\n",
    "\n",
    "    dict_coedit_freq = {}  # co-editing frequency\n",
    "    # for i, j in itertools.product(range(start-1, end), range(start-1, end)):\n",
    "    #     for status_i, status_j in itertools.product(\"C-C\", \"C-T\"):\n",
    "    #         dict_coedit_freq[(i, j), (status_i, status_j)] = 0\n",
    "\n",
    "    for i, j in itertools.product(range(len(target_seq)), range(len(target_seq))):\n",
    "        for m,n in itertools.product(['A', 'C', 'G', 'T'], ['A', 'C', 'G', 'T']):\n",
    "            dict_coedit_freq[(i, j), (m, n)] = {\n",
    "                'A': {'A': 0, 'C': 0, 'G': 0, 'T': 0},\n",
    "                'C': {'A': 0, 'C': 0, 'G': 0, 'T': 0},\n",
    "                'G': {'A': 0, 'C': 0, 'G': 0, 'T': 0},\n",
    "                'T': {'A': 0, 'C': 0, 'G': 0, 'T': 0}\n",
    "            }\n",
    "        \n",
    "    dict_count = generate_dict_count(fn_outcomes)\n",
    "\n",
    "    for outcome in dict_count.keys():\n",
    "        # build the editing probability matrix\n",
    "        for index in range(len(target_seq)):\n",
    "            t = target_seq[index]\n",
    "            e = outcome[index]  # t: nucleotide of target seq; e: nucleotide of editing outcome\n",
    "            # occupancy_list[index][e] += dict_count[outcome]\n",
    "            if t == 'C':\n",
    "                dict_edit_freq[(index, 'C')][e] += dict_count[outcome]\n",
    "            else:\n",
    "                dict_edit_freq[(index, 'Non-C')][e] += dict_count[outcome]\n",
    "        # build the editing conditional probability matrix\n",
    "        for i, j in itertools.product(range(len(target_seq)), range(len(target_seq))):\n",
    "            # the conditional probability is P(S_j | S_i)\n",
    "            t_i = target_seq[i]\n",
    "            e_i = outcome[i]\n",
    "            t_j = target_seq[j]\n",
    "            e_j = outcome[j]\n",
    "\n",
    "            dict_coedit_freq[(i, j), (t_i, e_i)][t_j][e_j] += dict_count[outcome]\n",
    "    \n",
    "    dict_edit_rate = {}\n",
    "    for index in range(len(target_seq)):\n",
    "        if sum(dict_edit_freq[(index, 'C')].values()) > 0:\n",
    "            dict_edit_rate[(index, \"edited\")] = dict_edit_freq[(index, 'C')]['T'] / sum(dict_edit_freq[(index, 'C')].values())\n",
    "            dict_edit_rate[(index, \"not-edited\")] = dict_edit_freq[(index, 'C')]['C'] / sum(dict_edit_freq[(index, 'C')].values())\n",
    "        else:\n",
    "            dict_edit_rate[(index, \"edited\")] = 0\n",
    "            dict_edit_rate[(index, \"not-edited\")] = 0\n",
    "\n",
    "    dict_coedit_rate = {}\n",
    "    for i, j in itertools.product(range(len(target_seq)), range(len(target_seq))):\n",
    "        dict_coedit_rate[(i,j), ('edited', 'edited')] = dict_coedit_freq[(i, j), ('C','T')]['C']['T']/dict_edit_freq[(i, 'C')]['T'] if dict_edit_freq[(i, 'C')]['T'] > 0 else 1\n",
    "        dict_coedit_rate[(i,j), ('edited', 'not-edited')] = dict_coedit_freq[(i, j), ('C','T')]['C']['C']/dict_edit_freq[(i, 'C')]['T'] if dict_edit_freq[(i, 'C')]['T'] > 0  else 1\n",
    "        dict_coedit_rate[(i,j), ('not-edited', 'edited')] = dict_coedit_freq[(i, j), ('C','C')]['C']['T']/dict_edit_freq[(i, 'C')]['C'] if dict_edit_freq[(i, 'C')]['C'] > 0 else 1\n",
    "        dict_coedit_rate[(i,j), ('not-edited', 'not-edited')] = dict_coedit_freq[(i, j), ('C','C')]['C']['C']/dict_edit_freq[(i, 'C')]['C'] if dict_edit_freq[(i, 'C')]['C'] > 0 else 1\n",
    "    \n",
    "    return target_seq, dict_edit_freq, dict_edit_rate, dict_coedit_freq, dict_coedit_rate"
   ]
  },
  {
   "cell_type": "markdown",
   "id": "6b78fbfd-df8a-4e56-a9e2-0c0c7f926b4d",
   "metadata": {},
   "source": [
    "### Interpretation version 1: the elements in E are the positions that the C is edited to T from target sequence to a particular bystander (within editing window)"
   ]
  },
  {
   "cell_type": "code",
   "execution_count": 2,
   "id": "3b93651c-7e73-4b4e-b392-270d0f876137",
   "metadata": {},
   "outputs": [],
   "source": [
    "def calc_prob_bystanders_v1(target_seq, start, end, dict_edit_rate, dict_coedit_rate):\n",
    "    index_start = int(start) - 1\n",
    "    index_end = int(end) -1\n",
    "\n",
    "    bystanders = generate_bystander_outcomes_expect(target_seq, start, end)\n",
    "\n",
    "    dict_bystanders_prob = {}\n",
    "    \n",
    "    for bystander in bystanders:\n",
    "        if bystander == target_seq:\n",
    "            continue\n",
    "            \n",
    "        E = [index for index, (char1, char2) in enumerate(zip(target_seq, bystander)) if char1 != char2]\n",
    "        \n",
    "        value = 1\n",
    "        for i in E:\n",
    "            P_i = dict_edit_rate[(i, 'edited')] if (i, 'edited') in dict_edit_rate.keys() else 0\n",
    "            value = value * P_i\n",
    "            for j in E:\n",
    "                if j == i:\n",
    "                    pass\n",
    "                else:\n",
    "                    P_ij = dict_coedit_rate[((i,j), ('edited', 'edited'))] if ((i,j), ('edited', 'edited')) in dict_coedit_rate.keys() else 1\n",
    "                    value = value * P_ij\n",
    "                    \n",
    "        value = value**(1.0/len(E))\n",
    "\n",
    "        dict_bystanders_prob[bystander] = value\n",
    "\n",
    "    return dict_bystanders_prob"
   ]
  },
  {
   "cell_type": "markdown",
   "id": "e7a19bd3-0bef-441e-bf78-28c176ed9879",
   "metadata": {},
   "source": [
    "### Interpretation version 2: the elements in E are the positions of C in target sequence (regardless of bystander outcomes, within editing window)"
   ]
  },
  {
   "cell_type": "code",
   "execution_count": 3,
   "id": "572632cb-67a3-47c3-b0c5-42d7f43fd73c",
   "metadata": {},
   "outputs": [],
   "source": [
    "def calc_prob_bystanders_v2(target_seq, start, end, dict_edit_rate, dict_coedit_rate):\n",
    "    index_start = start - 1\n",
    "    index_end = end -1\n",
    "\n",
    "    bystanders = generate_bystander_outcomes_expect(target_seq, start, end)\n",
    "\n",
    "    dict_bystanders_prob = {}\n",
    "\n",
    "    # the indexes of \"C\" in target_seq \n",
    "    E = [i for i in range(len(target_seq)) if index_start <= i <= index_end and target_seq[i] == \"C\"]\n",
    "    \n",
    "    for bystander in bystanders:\n",
    "        if bystander == target_seq:\n",
    "            continue\n",
    "        \n",
    "        value = 1\n",
    "        for i in E:\n",
    "            if bystander[i] == \"T\":\n",
    "                edit_status = 'edited'\n",
    "            else:\n",
    "                edit_status = 'not-edited'\n",
    "            \n",
    "            P_i = dict_edit_rate.get((i, edit_status), 0)\n",
    "            value *= P_i\n",
    "            \n",
    "            for j in E:\n",
    "                if j != i:\n",
    "                    if bystander[j] == \"T\":\n",
    "                        coedit_status = 'edited'\n",
    "                    else:\n",
    "                        coedit_status = 'not-edited'\n",
    "                    \n",
    "                    P_ij = dict_coedit_rate.get(((i,j), (edit_status, coedit_status)), 1)\n",
    "                    value *= P_ij\n",
    "                    \n",
    "        value = value**(1.0/len(E))\n",
    "\n",
    "        dict_bystanders_prob[bystander] = value\n",
    "\n",
    "    return dict_bystanders_prob"
   ]
  },
  {
   "cell_type": "markdown",
   "id": "699e5fe9-ff02-4c94-b06a-52797f956f63",
   "metadata": {},
   "source": [
    "### The read count of all editing outcomes (including the original target sequence and C->T outside of editing window)"
   ]
  },
  {
   "cell_type": "code",
   "execution_count": 4,
   "id": "73f518af-ff1d-4acb-aabe-19aeca5c6ae3",
   "metadata": {},
   "outputs": [
    {
     "data": {
      "text/plain": [
       "{'TGTGTCGTTTTCGGTTGTCTG': 7869,\n",
       " 'TGTGTTGTTTTTGGTTGTCTG': 993,\n",
       " 'TGTGTTGTTTTCGGTTGTCTG': 144,\n",
       " 'TGTGTCGTTTTTGGTTGTCTG': 33,\n",
       " 'TGTGTCGTTTTCGGTTGTTTG': 18,\n",
       " 'TGTGTTGTTTTTGGTTGTTTG': 8,\n",
       " 'TGTGTCGTTTTTGGTTGTTTG': 2,\n",
       " 'TGTGTTGTTTTCGGTTGTTTG': 1}"
      ]
     },
     "execution_count": 4,
     "metadata": {},
     "output_type": "execute_result"
    }
   ],
   "source": [
    "dict_count = generate_dict_count('TGTGTCGTTTTCGGTTGTCTG_outcomes.tsv')\n",
    "dict_count"
   ]
  },
  {
   "cell_type": "markdown",
   "id": "8a80c53b-ff22-4aa3-9306-38982a118c33",
   "metadata": {},
   "source": [
    "### Prepare the probabilities and conditional probabilities"
   ]
  },
  {
   "cell_type": "code",
   "execution_count": 5,
   "id": "64bbf6db-4a52-4702-8133-dacf3f43a027",
   "metadata": {},
   "outputs": [],
   "source": [
    "target_seq, dict_edit_freq, dict_edit_rate, dict_coedit_freq, dict_coedit_rate = prepare_probs('TGTGTCGTTTTCGGTTGTCTG_outcomes.tsv')"
   ]
  },
  {
   "cell_type": "markdown",
   "id": "8d1cf060-9e6e-48ad-b24d-13c3577b4e41",
   "metadata": {},
   "source": [
    "##### Single Probability of position 6 and position 12 (in Python index, they are 5 and 11): "
   ]
  },
  {
   "cell_type": "code",
   "execution_count": 6,
   "id": "c025859b-9ba8-45c8-94ab-48be8025d126",
   "metadata": {},
   "outputs": [
    {
     "name": "stdout",
     "output_type": "stream",
     "text": [
      "The probability of position 6 edited: 0.12637847375385972\n",
      "The probability of position 12 edited: 0.11424790471989413\n"
     ]
    }
   ],
   "source": [
    "print('The probability of position 6 edited: ' + str(dict_edit_rate[(5, 'edited')]))\n",
    "print('The probability of position 12 edited: ' + str(dict_edit_rate[(11, 'edited')]))"
   ]
  },
  {
   "cell_type": "markdown",
   "id": "473239b3-3e5d-4ac4-a6b4-52768a583052",
   "metadata": {},
   "source": [
    "##### Conditional probability of position 6 and position 12"
   ]
  },
  {
   "cell_type": "code",
   "execution_count": 7,
   "id": "fd06814b-93c5-4f36-8932-25398226e321",
   "metadata": {},
   "outputs": [
    {
     "name": "stdout",
     "output_type": "stream",
     "text": [
      "The probability of position 6 edited under the condition that position 12 is edited: 0.8734729493891797\n",
      "The probability of position 12 edited under the condition that position 6 is edited: 0.9662162162162162\n"
     ]
    }
   ],
   "source": [
    "print('The probability of position 6 edited under the condition that position 12 is edited: ' + str(dict_coedit_rate[(5, 11), ('edited', 'edited')]))\n",
    "print('The probability of position 12 edited under the condition that position 6 is edited: ' + str(dict_coedit_rate[(11, 5), ('edited', 'edited')]))"
   ]
  },
  {
   "cell_type": "markdown",
   "id": "2ff97ced-f322-4b33-82bf-08c35ae36b49",
   "metadata": {},
   "source": [
    "##### The 4 probabilities above are enough to calculate the bystanders' probabilities using formula V1.\n",
    "##### But for formula V2, we still need the following four probabilities:"
   ]
  },
  {
   "cell_type": "code",
   "execution_count": 8,
   "id": "aa4fbc7f-d1fc-46ab-bcb7-ed2ca1b701e9",
   "metadata": {},
   "outputs": [
    {
     "name": "stdout",
     "output_type": "stream",
     "text": [
      "The probability of position 6 NOT edited: 0.8736215262461403\n",
      "The probability of position 12 NOT edited: 0.8857520952801059\n",
      "The probability of position 6 edited under the condition that position 12 is NOT edited: 0.12652705061082026\n",
      "The probability of position 12 edited under the condition that position 6 is NOT edited: 0.033783783783783786\n",
      "The probability of position 6 NOT edited under the condition that position 12 is edited: 0.004418076243372886\n",
      "The probability of position 12 NOT edited under the condition that position 6 is edited: 0.018052788844621515\n"
     ]
    }
   ],
   "source": [
    "print('The probability of position 6 NOT edited: ' + str(dict_edit_rate[(5, 'not-edited')]))\n",
    "print('The probability of position 12 NOT edited: ' + str(dict_edit_rate[(11, 'not-edited')]))\n",
    "print('The probability of position 6 edited under the condition that position 12 is NOT edited: ' + str(dict_coedit_rate[(5, 11), ('edited', 'not-edited')]))\n",
    "print('The probability of position 12 edited under the condition that position 6 is NOT edited: ' + str(dict_coedit_rate[(11, 5), ('edited', 'not-edited')]))\n",
    "print('The probability of position 6 NOT edited under the condition that position 12 is edited: ' + str(dict_coedit_rate[(5, 11), ('not-edited', 'edited')]))\n",
    "print('The probability of position 12 NOT edited under the condition that position 6 is edited: ' + str(dict_coedit_rate[(11, 5), ('not-edited', 'edited')]))"
   ]
  },
  {
   "cell_type": "markdown",
   "id": "d5c08c5d-f057-4529-8e8b-3ecd8e6d7881",
   "metadata": {},
   "source": [
    "### Caculate the probabilities of all bystanders using formula V1"
   ]
  },
  {
   "cell_type": "code",
   "execution_count": 9,
   "id": "22b533e1-6785-4a48-865a-bf75fc25f7ac",
   "metadata": {},
   "outputs": [
    {
     "data": {
      "text/plain": [
       "{'TGTGTCGTTTTTGGTTGTCTG': 0.11424790471989413,\n",
       " 'TGTGTTGTTTTCGGTTGTCTG': 0.12637847375385972,\n",
       " 'TGTGTTGTTTTTGGTTGTCTG': 0.11038817820908689}"
      ]
     },
     "execution_count": 9,
     "metadata": {},
     "output_type": "execute_result"
    }
   ],
   "source": [
    "dict_bystanders_prob = calc_prob_bystanders_v1(target_seq, 4, 16, dict_edit_rate, dict_coedit_rate)\n",
    "dict_bystanders_prob"
   ]
  },
  {
   "cell_type": "markdown",
   "id": "3285d1f4-48c9-4ba8-bf21-0b5e0a98d7b7",
   "metadata": {},
   "source": [
    "### Caculate the probabilities of all bystanders using formula V2"
   ]
  },
  {
   "cell_type": "code",
   "execution_count": 10,
   "id": "1e4a7562-4b3d-4f3c-8980-d97cbdb27241",
   "metadata": {},
   "outputs": [
    {
     "data": {
      "text/plain": [
       "{'TGTGTCGTTTTTGGTTGTCTG': 0.0038597265108072346,\n",
       " 'TGTGTTGTTTTCGGTTGTCTG': 0.01599029554477283,\n",
       " 'TGTGTTGTTTTTGGTTGTCTG': 0.11038817820908689}"
      ]
     },
     "execution_count": 10,
     "metadata": {},
     "output_type": "execute_result"
    }
   ],
   "source": [
    "dict_bystanders_prob = calc_prob_bystanders_v2(target_seq, 4, 16, dict_edit_rate, dict_coedit_rate)\n",
    "dict_bystanders_prob"
   ]
  },
  {
   "cell_type": "code",
   "execution_count": null,
   "id": "434152d8-1d0e-41ff-bc9c-48827b567f45",
   "metadata": {},
   "outputs": [],
   "source": []
  }
 ],
 "metadata": {
  "kernelspec": {
   "display_name": "Python 3 (ipykernel)",
   "language": "python",
   "name": "python3"
  },
  "language_info": {
   "codemirror_mode": {
    "name": "ipython",
    "version": 3
   },
   "file_extension": ".py",
   "mimetype": "text/x-python",
   "name": "python",
   "nbconvert_exporter": "python",
   "pygments_lexer": "ipython3",
   "version": "3.11.5"
  }
 },
 "nbformat": 4,
 "nbformat_minor": 5
}
